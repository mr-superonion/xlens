{
 "cells": [
  {
   "cell_type": "code",
   "execution_count": 1,
   "id": "23e0d806-8a5b-4cf4-8fcd-5b0772b043d0",
   "metadata": {},
   "outputs": [
    {
     "name": "stdout",
     "output_type": "stream",
     "text": [
      "%pylab is deprecated, use %matplotlib inline and import the required libraries.\n",
      "Populating the interactive namespace from numpy and matplotlib\n"
     ]
    }
   ],
   "source": [
    "%pylab inline\n",
    "\n",
    "import anacal\n",
    "import numpy as np\n",
    "import matplotlib.pylab as plt\n",
    "\n",
    "import lsst.geom as geom\n",
    "from numpy.lib import recfunctions as rfn\n",
    "from astropy.visualization import simple_norm\n",
    "\n",
    "from lsst.skymap.ringsSkyMap import (\n",
    "    RingsSkyMap, RingsSkyMapConfig\n",
    ")\n",
    "from xlens.simulator.catalog import (\n",
    "    CatalogShearTask,\n",
    "    CatalogShearTaskConfig,\n",
    ")\n",
    "from xlens.simulator.sim import (\n",
    "    MultibandSimConfig, MultibandSimTask\n",
    ")"
   ]
  },
  {
   "cell_type": "code",
   "execution_count": 2,
   "id": "a7e956f1-5d09-4f14-b4ae-ec796459d84e",
   "metadata": {},
   "outputs": [],
   "source": [
    "config = RingsSkyMapConfig()\n",
    "config.patchInnerDimensions = [501, 501]\n",
    "config.tractOverlap = 0.0\n",
    "config.patchBorder = 0        # pixels\n",
    "config.numRings = 7000\n",
    "config.pixelScale = 0.2\n",
    "config.projection = \"TAN\"\n",
    "skymap = RingsSkyMap(config=config)\n",
    "\n",
    "config = CatalogShearTaskConfig()\n",
    "config.kappa_value = 0.0000\n",
    "config.layout=\"grid\"\n",
    "config.test_target=\"g2\"\n",
    "cattask = CatalogShearTask(config=config)\n",
    "catalog = cattask.run(\n",
    "    tract_info=skymap[0],\n",
    "    seed=0,\n",
    ").truthCatalog\n",
    "\n",
    "config = MultibandSimConfig()\n",
    "config.survey_name = (\n",
    "    \"lsst\" \n",
    ")\n",
    "simtask = MultibandSimTask(config=config)\n",
    "outcome = simtask.run(\n",
    "    tract_info=skymap[0],\n",
    "    patch_id=0,\n",
    "    band=\"i\",\n",
    "    seed=0,\n",
    "    truthCatalog=catalog,\n",
    ")"
   ]
  },
  {
   "cell_type": "code",
   "execution_count": 3,
   "id": "8790d47c-db2d-4727-bd8b-b7d5787943b5",
   "metadata": {},
   "outputs": [],
   "source": [
    "gal_array = np.asarray(\n",
    "    outcome.simExposure.getMaskedImage().getImage().array,\n",
    "    np.float64,\n",
    ")\n",
    "lsst_psf = outcome.simExposure.getPsf()\n",
    "psf_array = np.asarray(\n",
    "    anacal.utils.resize_array(\n",
    "        lsst_psf.computeImage(\n",
    "            geom.Point2D(250, 250)\n",
    "        ).getArray(), (64, 64)\n",
    "    ),\n",
    "    dtype=np.float64,\n",
    ")"
   ]
  },
  {
   "cell_type": "code",
   "execution_count": 4,
   "id": "ae766e7c-957f-4f69-bd54-ac906b453d5c",
   "metadata": {},
   "outputs": [
    {
     "data": {
      "text/plain": [
       "Text(0.5, 1.0, 'PSF')"
      ]
     },
     "execution_count": 4,
     "metadata": {},
     "output_type": "execute_result"
    },
    {
     "data": {
      "image/png": "[encoded data removed]",
      "text/plain": [
       "<Figure size 640x480 with 1 Axes>"
      ]
     },
     "metadata": {},
     "output_type": "display_data"
    }
   ],
   "source": [
    "plt.close()\n",
    "# Display the PSF image simulation\n",
    "plt.imshow(psf_array, cmap=\"Greys_r\", origin=\"lower\")\n",
    "plt.title(\"PSF\")"
   ]
  },
  {
   "cell_type": "code",
   "execution_count": 5,
   "id": "cdef9442-f24e-498a-87f1-78bc129089c8",
   "metadata": {},
   "outputs": [],
   "source": [
    "noise_variance = 0.24\n",
    "fpfs_c0 = 8.4\n",
    "sigma_arcsec = 0.38\n",
    "mag_zero = 27.0\n",
    "pixel_scale = 0.2\n",
    "\n",
    "class MyPsf(anacal.psf.BasePsf):\n",
    "    def __init__(self, psf_array):\n",
    "        super().__init__()\n",
    "        self.psf_array = psf_array\n",
    "\n",
    "    # accept *args/**kwargs for compatibility with flexible C++ signature\n",
    "    def draw(self, x, y, *args, color=1.0, **kwargs):\n",
    "        return self.psf_array\n",
    "\n",
    "psf_object = MyPsf(psf_array)\n",
    "def process_image(\n",
    "    gal_array,\n",
    "    psf_object,\n",
    "    pixel_scale,\n",
    "    noise_variance,\n",
    "    noise_array=None,\n",
    "    mask_array=None,\n",
    "    omega_f=0.06,\n",
    "    vmin=0.013,\n",
    "    omega_v=0.025,\n",
    "    p_min=0.06,\n",
    "    omega_p=0.05,\n",
    "    det_block_size=400,\n",
    "    det_block_overlap=80,\n",
    "):\n",
    "    height, width = gal_array.shape\n",
    "    blocks = anacal.geometry.get_block_list(\n",
    "        img_ny=height,\n",
    "        img_nx=width,\n",
    "        block_nx=det_block_size,\n",
    "        block_ny=det_block_size,\n",
    "        block_overlap=det_block_overlap,\n",
    "        scale=pixel_scale,\n",
    "    )\n",
    "    # attach PSF if your block objects expect it\n",
    "    for b in blocks:\n",
    "        b.psf_array = psf_object.psf_array\n",
    "\n",
    "    # prior\n",
    "    prior = anacal.ngmix.modelPrior()\n",
    "    prior.set_sigma_a(anacal.math.qnumber(0.05))\n",
    "    prior.set_sigma_x(anacal.math.qnumber(0.05))\n",
    "\n",
    "    # photometric scaling\n",
    "    ratio = 10.0 ** ((mag_zero - 30.0) / 2.5)\n",
    "\n",
    "    det_task = anacal.task.Task(\n",
    "        scale=pixel_scale,\n",
    "        omega_f=omega_f*ratio,\n",
    "        v_min=vmin*ratio,       \n",
    "        omega_v=omega_v*ratio,\n",
    "        fpfs_c0=fpfs_c0*ratio,\n",
    "        p_min=p_min,\n",
    "        omega_p=omega_p,\n",
    "        sigma_arcsec=sigma_arcsec,\n",
    "        snr_peak_min=5,\n",
    "        stamp_size=64,\n",
    "        image_bound=40,\n",
    "        num_epochs=0,\n",
    "        force_size=True,\n",
    "        force_center=True,\n",
    "        prior=prior,\n",
    "    )\n",
    "\n",
    "    detection = det_task.process_image(\n",
    "        gal_array,\n",
    "        psf_object.psf_array,    \n",
    "        variance=noise_variance,\n",
    "        block_list=blocks,\n",
    "        detection=None,\n",
    "        noise_array=noise_array,\n",
    "        mask_array=mask_array,\n",
    "    )\n",
    "\n",
    "    fpfs_peaks_dtype = np.dtype([(\"y\", np.float64), (\"x\", np.float64)])\n",
    "    det = np.zeros(len(detection), dtype=fpfs_peaks_dtype)\n",
    "    det[\"x\"] = detection[\"x1_det\"] / pixel_scale\n",
    "    det[\"y\"] = detection[\"x2_det\"] / pixel_scale\n",
    "\n",
    "    fpfs_config = anacal.fpfs.FpfsConfig(\n",
    "        sigma_shapelets1=sigma_arcsec * np.sqrt(2.0),\n",
    "    )\n",
    "\n",
    "    catalog = anacal.fpfs.process_image(\n",
    "        fpfs_config=fpfs_config,\n",
    "        pixel_scale=pixel_scale,\n",
    "        mag_zero=mag_zero,\n",
    "        noise_variance=noise_variance,\n",
    "        gal_array=gal_array,\n",
    "        psf_array=psf_object.psf_array,  \n",
    "        mask_array=mask_array,\n",
    "        noise_array=noise_array,\n",
    "        detection=det,\n",
    "        psf_object=psf_object, \n",
    "        do_compute_detect_weight=False,\n",
    "    )\n",
    "    catalog = rfn.merge_arrays(\n",
    "        [catalog, det, detection[[\"wsel\", \"dwsel_dg1\", \"dwsel_dg2\"]]], \n",
    "        flatten=True\n",
    "    )\n",
    "    return catalog"
   ]
  },
  {
   "cell_type": "code",
   "execution_count": 6,
   "id": "500020e6-30ef-4b11-b630-0172956a3585",
   "metadata": {},
   "outputs": [],
   "source": [
    "config = CatalogShearTaskConfig()\n",
    "config.kappa_value = 0.0000\n",
    "config.layout=\"grid\"\n",
    "config.mode=0\n",
    "cattask = CatalogShearTask(config=config)\n",
    "catalog = cattask.run(\n",
    "    tract_info=skymap[0],\n",
    "    seed=0,\n",
    ").truthCatalog\n",
    "\n",
    "config = MultibandSimConfig()\n",
    "config.survey_name = (\n",
    "    \"lsst\" \n",
    ")\n",
    "simtask = MultibandSimTask(config=config)\n",
    "outcome = simtask.run(\n",
    "    tract_info=skymap[0],\n",
    "    patch_id=0,\n",
    "    band=\"i\",\n",
    "    seed=0,\n",
    "    truthCatalog=catalog,\n",
    ")\n",
    "gal_array1 = np.asarray(\n",
    "    outcome.simExposure.getMaskedImage().getImage().array,\n",
    "    np.float64,\n",
    ")\n",
    "out1 = process_image(gal_array1, psf_object, pixel_scale, noise_variance)\n",
    "\n",
    "\n",
    "config = CatalogShearTaskConfig()\n",
    "config.kappa_value = 0.0000\n",
    "config.layout=\"grid\"\n",
    "config.mode=1\n",
    "cattask = CatalogShearTask(config=config)\n",
    "catalog = cattask.run(\n",
    "    tract_info=skymap[0],\n",
    "    seed=0,\n",
    ").truthCatalog\n",
    "\n",
    "config = MultibandSimConfig()\n",
    "config.survey_name = (\n",
    "    \"lsst\" \n",
    ")\n",
    "simtask = MultibandSimTask(config=config)\n",
    "outcome = simtask.run(\n",
    "    tract_info=skymap[0],\n",
    "    patch_id=0,\n",
    "    band=\"i\",\n",
    "    seed=0,\n",
    "    truthCatalog=catalog,\n",
    ")\n",
    "gal_array2 = np.asarray(\n",
    "    outcome.simExposure.getMaskedImage().getImage().array,\n",
    "    np.float64,\n",
    ")\n",
    "out2 = process_image(gal_array2, psf_object, pixel_scale, noise_variance)"
   ]
  },
  {
   "cell_type": "code",
   "execution_count": 7,
   "id": "88a4ae7f-03d6-4e61-a661-212f85557567",
   "metadata": {},
   "outputs": [
    {
     "name": "stderr",
     "output_type": "stream",
     "text": [
      "WARNING: AstropyDeprecationWarning: \"min_cut\" was deprecated in version 6.1 and will be removed in a future version. Use argument \"vmin\" instead. [warnings]\n",
      "WARNING: AstropyDeprecationWarning: \"max_cut\" was deprecated in version 6.1 and will be removed in a future version. Use argument \"vmax\" instead. [warnings]\n"
     ]
    },
    {
     "data": {
      "text/plain": [
       "Text(0.5, 1.0, 'Exposure')"
      ]
     },
     "execution_count": 7,
     "metadata": {},
     "output_type": "execute_result"
    },
    {
     "data": {
      "image/png": "[encoded data removed]",
      "text/plain": [
       "<Figure size 640x480 with 1 Axes>"
      ]
     },
     "metadata": {},
     "output_type": "display_data"
    }
   ],
   "source": [
    "plt.scatter(out1[\"x\"], out1[\"y\"], marker=\"o\", alpha=0.5, s=1.0, color=\"red\")\n",
    "plt.imshow(\n",
    "    gal_array1,\n",
    "    aspect=\"equal\",\n",
    "    cmap=\"Greys_r\",\n",
    "    origin=\"lower\",\n",
    "    interpolation=\"None\",\n",
    "    norm=simple_norm(gal_array, \"asinh\", asinh_a=0.2, min_cut=-0.1, max_cut=30),\n",
    ")\n",
    "plt.title(\"Exposure\")"
   ]
  },
  {
   "cell_type": "code",
   "execution_count": 8,
   "id": "4dd343bf-f2d6-4cfb-8610-ed378203c8cf",
   "metadata": {},
   "outputs": [
    {
     "name": "stderr",
     "output_type": "stream",
     "text": [
      "WARNING: AstropyDeprecationWarning: \"min_cut\" was deprecated in version 6.1 and will be removed in a future version. Use argument \"vmin\" instead. [warnings]\n",
      "WARNING: AstropyDeprecationWarning: \"max_cut\" was deprecated in version 6.1 and will be removed in a future version. Use argument \"vmax\" instead. [warnings]\n"
     ]
    },
    {
     "data": {
      "text/plain": [
       "Text(0.5, 1.0, 'Exposure')"
      ]
     },
     "execution_count": 8,
     "metadata": {},
     "output_type": "execute_result"
    },
    {
     "data": {
      "image/png": "[encoded data removed]",
      "text/plain": [
       "<Figure size 640x480 with 1 Axes>"
      ]
     },
     "metadata": {},
     "output_type": "display_data"
    }
   ],
   "source": [
    "plt.scatter(out2[\"x\"], out2[\"y\"], marker=\"o\", alpha=0.5, s=1.0, color=\"red\")\n",
    "plt.imshow(\n",
    "    gal_array2,\n",
    "    aspect=\"equal\",\n",
    "    cmap=\"Greys_r\",\n",
    "    origin=\"lower\",\n",
    "    interpolation=\"None\",\n",
    "    norm=simple_norm(gal_array, \"asinh\", asinh_a=0.2, min_cut=-0.1, max_cut=30),\n",
    ")\n",
    "plt.title(\"Exposure\")"
   ]
  },
  {
   "cell_type": "code",
   "execution_count": 9,
   "id": "1c85e843-fce4-4b8f-9754-8892feb4609d",
   "metadata": {},
   "outputs": [
    {
     "name": "stdout",
     "output_type": "stream",
     "text": [
      "-0.002295536796397606\n"
     ]
    }
   ],
   "source": [
    "e1_1 = out1[\"wsel\"] * out1[\"fpfs1_e1\"]\n",
    "e1g1_1 = out1[\"dwsel_dg1\"] * out1[\"fpfs1_e1\"] + out1[\"wsel\"] * out1[\"fpfs1_de1_dg1\"]\n",
    "e1_2 = out2[\"wsel\"] * out2[\"fpfs1_e1\"]\n",
    "e1g1_2 = out2[\"dwsel_dg1\"] * out2[\"fpfs1_e1\"] + out2[\"wsel\"] * out2[\"fpfs1_de1_dg1\"]\n",
    "print((np.sum(e1_2) - np.sum(e1_1)) / (np.sum(e1g1_1) + np.sum(e1g1_2)))"
   ]
  }
 ],
 "metadata": {
  "kernelspec": {
   "display_name": "Python 3 (ipykernel)",
   "language": "python",
   "name": "python3"
  },
  "language_info": {
   "codemirror_mode": {
    "name": "ipython",
    "version": 3
   },
   "file_extension": ".py",
   "mimetype": "text/x-python",
   "name": "python",
   "nbconvert_exporter": "python",
   "pygments_lexer": "ipython3",
   "version": "3.11.11"
  }
 },
 "nbformat": 4,
 "nbformat_minor": 5
}
